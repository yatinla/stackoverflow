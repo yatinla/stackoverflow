{
 "metadata": {
  "name": "",
  "signature": "sha256:c2c4f23805b8b1b31da04e84ebb3d7e0b2dce6446015633541285518626e3268"
 },
 "nbformat": 3,
 "nbformat_minor": 0,
 "worksheets": [
  {
   "cells": [
    {
     "cell_type": "code",
     "collapsed": false,
     "input": [
      "from pandas import *"
     ],
     "language": "python",
     "metadata": {},
     "outputs": [],
     "prompt_number": 2
    },
    {
     "cell_type": "code",
     "collapsed": false,
     "input": [
      "df = read_csv(\"pandas_different_indices.txt\",sep=r'\\s+',names=['DATE','GDP','USRECQ'],index_col=0,parse_dates=True)"
     ],
     "language": "python",
     "metadata": {},
     "outputs": [],
     "prompt_number": 3
    },
    {
     "cell_type": "code",
     "collapsed": false,
     "input": [
      "df"
     ],
     "language": "python",
     "metadata": {},
     "outputs": [
      {
       "html": [
        "<div style=\"max-height:1000px;max-width:1500px;overflow:auto;\">\n",
        "<table border=\"1\" class=\"dataframe\">\n",
        "  <thead>\n",
        "    <tr style=\"text-align: right;\">\n",
        "      <th></th>\n",
        "      <th>GDP</th>\n",
        "      <th>USRECQ</th>\n",
        "    </tr>\n",
        "    <tr>\n",
        "      <th>DATE</th>\n",
        "      <th></th>\n",
        "      <th></th>\n",
        "    </tr>\n",
        "  </thead>\n",
        "  <tbody>\n",
        "    <tr>\n",
        "      <th>1947-01-01</th>\n",
        "      <td>      NaN</td>\n",
        "      <td> 0</td>\n",
        "    </tr>\n",
        "    <tr>\n",
        "      <th>1947-04-01</th>\n",
        "      <td>      NaN</td>\n",
        "      <td> 0</td>\n",
        "    </tr>\n",
        "    <tr>\n",
        "      <th>1947-07-01</th>\n",
        "      <td>      NaN</td>\n",
        "      <td> 0</td>\n",
        "    </tr>\n",
        "    <tr>\n",
        "      <th>1947-10-01</th>\n",
        "      <td>      NaN</td>\n",
        "      <td> 0</td>\n",
        "    </tr>\n",
        "    <tr>\n",
        "      <th>1948-01-01</th>\n",
        "      <td> 0.095023</td>\n",
        "      <td> 0</td>\n",
        "    </tr>\n",
        "    <tr>\n",
        "      <th>1948-04-01</th>\n",
        "      <td> 0.107998</td>\n",
        "      <td> 0</td>\n",
        "    </tr>\n",
        "    <tr>\n",
        "      <th>1948-07-01</th>\n",
        "      <td> 0.117553</td>\n",
        "      <td> 0</td>\n",
        "    </tr>\n",
        "    <tr>\n",
        "      <th>1948-10-01</th>\n",
        "      <td> 0.078371</td>\n",
        "      <td> 0</td>\n",
        "    </tr>\n",
        "    <tr>\n",
        "      <th>1949-01-01</th>\n",
        "      <td> 0.034560</td>\n",
        "      <td> 1</td>\n",
        "    </tr>\n",
        "    <tr>\n",
        "      <th>1949-04-01</th>\n",
        "      <td>-0.004397</td>\n",
        "      <td> 1</td>\n",
        "    </tr>\n",
        "  </tbody>\n",
        "</table>\n",
        "</div>"
       ],
       "metadata": {},
       "output_type": "pyout",
       "prompt_number": 4,
       "text": [
        "                 GDP  USRECQ\n",
        "DATE                        \n",
        "1947-01-01       NaN       0\n",
        "1947-04-01       NaN       0\n",
        "1947-07-01       NaN       0\n",
        "1947-10-01       NaN       0\n",
        "1948-01-01  0.095023       0\n",
        "1948-04-01  0.107998       0\n",
        "1948-07-01  0.117553       0\n",
        "1948-10-01  0.078371       0\n",
        "1949-01-01  0.034560       1\n",
        "1949-04-01 -0.004397       1"
       ]
      }
     ],
     "prompt_number": 4
    },
    {
     "cell_type": "markdown",
     "metadata": {},
     "source": [
      "I would like to count the number of observation for which USRECQ[DATE+1]==1 and GDP[DATE]>a if GDP[DATE]!='NAN'."
     ]
    },
    {
     "cell_type": "code",
     "collapsed": false,
     "input": [
      "df[np.logical_and(df.shift(-1)['USRECQ'] == 1,df.GDP > -0.1)]"
     ],
     "language": "python",
     "metadata": {},
     "outputs": [
      {
       "html": [
        "<div style=\"max-height:1000px;max-width:1500px;overflow:auto;\">\n",
        "<table border=\"1\" class=\"dataframe\">\n",
        "  <thead>\n",
        "    <tr style=\"text-align: right;\">\n",
        "      <th></th>\n",
        "      <th>GDP</th>\n",
        "      <th>USRECQ</th>\n",
        "    </tr>\n",
        "    <tr>\n",
        "      <th>DATE</th>\n",
        "      <th></th>\n",
        "      <th></th>\n",
        "    </tr>\n",
        "  </thead>\n",
        "  <tbody>\n",
        "    <tr>\n",
        "      <th>1948-10-01</th>\n",
        "      <td> 0.078371</td>\n",
        "      <td> 0</td>\n",
        "    </tr>\n",
        "    <tr>\n",
        "      <th>1949-01-01</th>\n",
        "      <td> 0.034560</td>\n",
        "      <td> 1</td>\n",
        "    </tr>\n",
        "  </tbody>\n",
        "</table>\n",
        "</div>"
       ],
       "metadata": {},
       "output_type": "pyout",
       "prompt_number": 10,
       "text": [
        "                 GDP  USRECQ\n",
        "DATE                        \n",
        "1948-10-01  0.078371       0\n",
        "1949-01-01  0.034560       1"
       ]
      }
     ],
     "prompt_number": 10
    },
    {
     "cell_type": "code",
     "collapsed": false,
     "input": [],
     "language": "python",
     "metadata": {},
     "outputs": [],
     "prompt_number": 9
    },
    {
     "cell_type": "code",
     "collapsed": false,
     "input": [],
     "language": "python",
     "metadata": {},
     "outputs": [],
     "prompt_number": 5
    },
    {
     "cell_type": "code",
     "collapsed": false,
     "input": [],
     "language": "python",
     "metadata": {},
     "outputs": []
    }
   ],
   "metadata": {}
  }
 ]
}